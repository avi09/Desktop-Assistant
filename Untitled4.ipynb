{
  "nbformat": 4,
  "nbformat_minor": 0,
  "metadata": {
    "colab": {
      "name": "Untitled4.ipynb",
      "provenance": []
    },
    "kernelspec": {
      "name": "python3",
      "display_name": "Python 3"
    }
  },
  "cells": [
    {
      "cell_type": "code",
      "metadata": {
        "id": "uTuS5RI9mKn6",
        "colab_type": "code",
        "colab": {}
      },
      "source": [
        "from nltk.stem.wordnet import WordNetLemmatizer\n",
        "from nltk.stem.porter import PorterStemmer"
      ],
      "execution_count": 4,
      "outputs": []
    },
    {
      "cell_type": "code",
      "metadata": {
        "id": "mwMDRI2GnrDU",
        "colab_type": "code",
        "colab": {
          "base_uri": "https://localhost:8080/",
          "height": 86
        },
        "outputId": "02963433-67ee-4b03-91f3-cb06a144b6a6"
      },
      "source": [
        "nltk.download('wordnet')\n",
        "stem = PorterStemmer()\n",
        "word_m = WordNetLemmatizer()\n",
        "\n",
        "stopwords = ['of','and','can','please','for','hey','be','will','you']\n",
        "x = input('Enter the Sentence Here- ')\n",
        "xy=''\n",
        "for i in x.split(' '):\n",
        "  if i in stopwords:\n",
        "    y=1\n",
        "  else:\n",
        "    xy+=i+' '\n",
        "x=''\n",
        "for i in xy.split(' '):\n",
        "  y=stem.stem(i)\n",
        "  y=word_m.lemmatize(y,'v')\n",
        "  x+=y+' '\n",
        "print(x)"
      ],
      "execution_count": 25,
      "outputs": [
        {
          "output_type": "stream",
          "text": [
            "[nltk_data] Downloading package wordnet to /root/nltk_data...\n",
            "[nltk_data]   Package wordnet is already up-to-date!\n",
            "Enter the Sentence Here- playing\n",
            "play  \n"
          ],
          "name": "stdout"
        }
      ]
    }
  ]
}